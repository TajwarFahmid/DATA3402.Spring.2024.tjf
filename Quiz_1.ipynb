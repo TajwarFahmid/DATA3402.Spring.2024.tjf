{
  "nbformat": 4,
  "nbformat_minor": 0,
  "metadata": {
    "colab": {
      "provenance": []
    },
    "kernelspec": {
      "name": "python3",
      "display_name": "Python 3"
    },
    "language_info": {
      "name": "python"
    }
  },
  "cells": [
    {
      "cell_type": "code",
      "execution_count": 2,
      "metadata": {
        "id": "lwdIYT3LTmDW"
      },
      "outputs": [],
      "source": [
        "def create_new_args_0(args):\n",
        "    max_len = max(map(len,\n",
        "                      filter(lambda x: isinstance(x,list),\n",
        "                        args)))\n",
        "\n",
        "    # Rewrite this section:\n",
        "    new_args=list()\n",
        "\n",
        "    for a in args:\n",
        "        if not isinstance(a,list):\n",
        "            a0=[a]*max_len\n",
        "        elif len(a)!=max_len:\n",
        "            print(\"Error: all list arguments must have same length.\")\n",
        "            return\n",
        "        else:\n",
        "            a0=a\n",
        "        new_args.append(a0)\n",
        "\n",
        "    return new_args\n"
      ]
    },
    {
      "cell_type": "code",
      "source": [
        "# Answer:\n",
        "def create_new_args_0(args):\n",
        "    max_len = max(map(len, filter(lambda x: isinstance(x, list), args)))\n",
        "    return [(a if isinstance(a, list) and len(a) == max_len else [a] * max_len) if isinstance(a, list) else [a] * max_len for a in args]\n",
        "\n"
      ],
      "metadata": {
        "id": "528lexpBTupm"
      },
      "execution_count": 7,
      "outputs": []
    },
    {
      "cell_type": "code",
      "source": [],
      "metadata": {
        "id": "XC32-ToOUXmz"
      },
      "execution_count": null,
      "outputs": []
    }
  ]
}