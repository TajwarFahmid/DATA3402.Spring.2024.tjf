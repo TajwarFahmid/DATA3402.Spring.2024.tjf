{
 "cells": [
  {
   "cell_type": "markdown",
   "metadata": {},
   "source": [
    "## Lab 2- Tic Tac Toe\n",
    "\n",
    "In this lab your will build a n x n Tic Tac Toe game. As you do the exercises, make sure your solutions work for any size Tic Tac Toe game. "
   ]
  },
  {
   "cell_type": "markdown",
   "metadata": {},
   "source": [
    "*Exercise 1:* Write a function that creates an n by n matrix (of list of lists) which will represent the state of a Tie Tac Toe game. Let 0, 1, and 2 represent empty, \"X\", and \"O\", respectively.\n"
   ]
  },
  {
   "cell_type": "code",
   "execution_count": 1,
   "metadata": {},
   "outputs": [],
   "source": [
    "def create_tic_tac_toe_board(n):\n",
    "    \n",
    "    return [[0] * n for _ in range(n)]\n"
   ]
  },
  {
   "cell_type": "code",
   "execution_count": 2,
   "metadata": {},
   "outputs": [
    {
     "name": "stdout",
     "output_type": "stream",
     "text": [
      "[[0, 0, 0], [0, 0, 0], [0, 0, 0]]\n"
     ]
    }
   ],
   "source": [
    "board_size = 3 \n",
    "tic_tac_toe_board = create_tic_tac_toe_board(board_size)\n",
    "print(tic_tac_toe_board)\n"
   ]
  },
  {
   "cell_type": "markdown",
   "metadata": {},
   "source": [
    "*Exercise 2:* Write a function that takes 2 integers `n` and `m` as input and draws a `n` by `m` game board. For example the following is a 3x3 board:\n",
    "```\n",
    "   --- --- --- \n",
    "  |   |   |   | \n",
    "   --- --- ---  \n",
    "  |   |   |   | \n",
    "   --- --- ---  \n",
    "  |   |   |   | \n",
    "   --- --- --- \n",
    "   ```"
   ]
  },
  {
   "cell_type": "code",
   "execution_count": 4,
   "metadata": {},
   "outputs": [],
   "source": [
    "def game_board(n, m):\n",
    "   \n",
    "    for i in range(n):\n",
    "        \n",
    "        print(\" ---\" * m)\n",
    "        \n",
    "      \n",
    "        print(\"|   \" * (m + 1))\n",
    "    \n",
    "    \n",
    "    print(\" ---\" * m)\n",
    "\n",
    "\n"
   ]
  },
  {
   "cell_type": "code",
   "execution_count": 6,
   "metadata": {},
   "outputs": [
    {
     "name": "stdout",
     "output_type": "stream",
     "text": [
      " --- --- ---\n",
      "|   |   |   |   \n",
      " --- --- ---\n",
      "|   |   |   |   \n",
      " --- --- ---\n",
      "|   |   |   |   \n",
      " --- --- ---\n",
      "|   |   |   |   \n",
      " --- --- ---\n"
     ]
    }
   ],
   "source": [
    "game_board(4, 3)"
   ]
  },
  {
   "cell_type": "markdown",
   "metadata": {},
   "source": [
    "*Exercise 3:* Modify exercise 2, so that it takes a matrix of the form from exercise 1 and draws a tic-tac-tie board with \"X\"s and \"O\"s.  "
   ]
  },
  {
   "cell_type": "code",
   "execution_count": 7,
   "metadata": {},
   "outputs": [],
   "source": [
    "def draw_tic_tac_toe_board(board):\n",
    "   \n",
    "    n = len(board)\n",
    "\n",
    " \n",
    "    print(\"   \" + \"   \".join(str(i) for i in range(1, n + 1)))\n",
    "\n",
    "    for i in range(n):\n",
    "     \n",
    "        print(\" ---\" * n)\n",
    "\n",
    "      \n",
    "        for j in range(n):\n",
    "            print(f\"| {symbol(board[i][j])} \", end=\"\")\n",
    "        print(f\"| {i + 1}\")\n",
    "\n",
    "    \n",
    "    print(\" ---\" * n)\n",
    "\n",
    "def symbol(value):\n",
    "    \n",
    "    if value == 1:\n",
    "        return \"X\"\n",
    "    elif value == 2:\n",
    "        return \"O\"\n",
    "    else:\n",
    "        return \" \"\n",
    "\n"
   ]
  },
  {
   "cell_type": "code",
   "execution_count": 8,
   "metadata": {},
   "outputs": [
    {
     "name": "stdout",
     "output_type": "stream",
     "text": [
      "   1   2   3\n",
      " --- --- ---\n",
      "| X |   | O | 1\n",
      " --- --- ---\n",
      "|   | X |   | 2\n",
      " --- --- ---\n",
      "| O |   | X | 3\n",
      " --- --- ---\n"
     ]
    }
   ],
   "source": [
    "\n",
    "tic_tac_toe_board = [[1, 0, 2], [0, 1, 0], [2, 0, 1]]\n",
    "draw_tic_tac_toe_board(tic_tac_toe_board)\n"
   ]
  },
  {
   "cell_type": "markdown",
   "metadata": {},
   "source": [
    "*Exercise 4:* Write a function that takes a `n` by `n` matrix representing a tic-tac-toe game, and returns -1, 0, 1, or 2 indicating the game is incomplete, the game is a draw, player 1 has won, or player 2 has one, respectively. Here are some example inputs you can use to test your code:"
   ]
  },
  {
   "cell_type": "code",
   "execution_count": 9,
   "metadata": {},
   "outputs": [],
   "source": [
    "def check_tic_tac_toe_game(board):\n",
    "    \n",
    "    n = len(board)\n",
    "\n",
    "   \n",
    "    for i in range(n):\n",
    "        if all(board[i][j] == 1 for j in range(n)):\n",
    "            return 1\n",
    "        elif all(board[i][j] == 2 for j in range(n)):\n",
    "            return 2\n",
    "\n",
    "    for j in range(n):\n",
    "        if all(board[i][j] == 1 for i in range(n)):\n",
    "            return 1\n",
    "        elif all(board[i][j] == 2 for i in range(n)):\n",
    "            return 2\n",
    "\n",
    " \n",
    "    if all(board[i][i] == 1 for i in range(n)):\n",
    "        return 1\n",
    "    elif all(board[i][i] == 2 for i in range(n)):\n",
    "        return 2\n",
    "    if all(board[i][n - i - 1] == 1 for i in range(n)):\n",
    "        return 1\n",
    "    elif all(board[i][n - i - 1] == 2 for i in range(n)):\n",
    "        return 2\n",
    "\n",
    "    for i in range(n):\n",
    "        for j in range(n):\n",
    "            if board[i][j] == 0:\n",
    "                return -1\n",
    "\n",
    "  \n",
    "    return 0\n",
    "\n",
    "\n",
    "\n"
   ]
  },
  {
   "cell_type": "code",
   "execution_count": 10,
   "metadata": {},
   "outputs": [
    {
     "name": "stdout",
     "output_type": "stream",
     "text": [
      "1\n",
      "0\n",
      "1\n",
      "-1\n"
     ]
    }
   ],
   "source": [
    "board1 = [[1, 0, 2],\n",
    "          [2, 1, 0],\n",
    "          [1, 2, 1]]\n",
    "print(check_tic_tac_toe_game(board1))\n",
    "\n",
    "board2 = [[1, 2, 1],\n",
    "          [1, 2, 2],\n",
    "          [2, 1, 1]]\n",
    "print(check_tic_tac_toe_game(board2))  \n",
    "\n",
    "board3 = [[1, 2, 1],\n",
    "          [2, 1, 2],\n",
    "          [1, 1, 1]]\n",
    "print(check_tic_tac_toe_game(board3)) \n",
    "\n",
    "board4 = [[1, 2, 0],\n",
    "          [2, 1, 0],\n",
    "          [1, 2, 0]]\n",
    "print(check_tic_tac_toe_game(board4)) "
   ]
  },
  {
   "cell_type": "code",
   "execution_count": null,
   "metadata": {
    "collapsed": true,
    "jupyter": {
     "outputs_hidden": true
    }
   },
   "outputs": [],
   "source": [
    "winner_is_2 = [[2, 2, 0],\n",
    "\t[2, 1, 0],\n",
    "\t[2, 1, 1]]\n",
    "\n",
    "winner_is_1 = [[1, 2, 0],\n",
    "\t[2, 1, 0],\n",
    "\t[2, 1, 1]]\n",
    "\n",
    "winner_is_also_1 = [[0, 1, 0],\n",
    "\t[2, 1, 0],\n",
    "\t[2, 1, 1]]\n",
    "\n",
    "no_winner = [[1, 2, 0],\n",
    "\t[2, 1, 0],\n",
    "\t[2, 1, 2]]\n",
    "\n",
    "also_no_winner = [[1, 2, 0],\n",
    "\t[2, 1, 0],\n",
    "\t[2, 1, 0]]"
   ]
  },
  {
   "cell_type": "markdown",
   "metadata": {},
   "source": [
    "*Exercise 5:* Write a function that takes a game board, player number, and `(x,y)` coordinates and places \"X\" or \"O\" in the correct location of the game board. Make sure that you only allow filling previously empty locations. Return `True` or `False` to indicate successful placement of \"X\" or \"O\"."
   ]
  },
  {
   "cell_type": "code",
   "execution_count": 14,
   "metadata": {},
   "outputs": [],
   "source": [
    "def place_symbol(board, player, x, y):\n",
    "    \n",
    "    if board[x][y] == 0:\n",
    "        board[x][y] = player\n",
    "        return True\n",
    "    else:\n",
    "        return False\n",
    "\n",
    "\n"
   ]
  },
  {
   "cell_type": "code",
   "execution_count": 13,
   "metadata": {},
   "outputs": [
    {
     "name": "stdout",
     "output_type": "stream",
     "text": [
      "True\n",
      "True\n",
      "False\n"
     ]
    }
   ],
   "source": [
    "game_board = [[0, 0, 0],\n",
    "              [0, 0, 0],\n",
    "              [0, 0, 0]]\n",
    "\n",
    "print(place_symbol(game_board, 1, 0, 0))  \n",
    "\n",
    "print(place_symbol(game_board, 2, 1, 1))\n",
    "\n",
    "print(place_symbol(game_board, 1, 0, 0))  "
   ]
  },
  {
   "cell_type": "markdown",
   "metadata": {},
   "source": [
    "*Exercise 6:* Modify Exercise 4 to show column and row labels so that players can specify location using \"A2\" or \"C1\"."
   ]
  },
  {
   "cell_type": "code",
   "execution_count": 37,
   "metadata": {},
   "outputs": [
    {
     "name": "stdout",
     "output_type": "stream",
     "text": [
      "True\n",
      "True\n",
      "False\n"
     ]
    }
   ],
   "source": [
    "def check_tic_tac_toe_game(board):\n",
    "   \n",
    "    n = len(board)\n",
    "\n",
    "    # Check rows\n",
    "    for i in range(n):\n",
    "        if all(board[i][j] == 1 for j in range(n)):\n",
    "            return 1\n",
    "        elif all(board[i][j] == 2 for j in range(n)):\n",
    "            return 2\n",
    "\n",
    "    # Check columns\n",
    "    for j in range(n):\n",
    "        if all(board[i][j] == 1 for i in range(n)):\n",
    "            return 1\n",
    "        elif all(board[i][j] == 2 for i in range(n)):\n",
    "            return 2\n",
    "\n",
    "    # Check diagonals\n",
    "    if all(board[i][i] == 1 for i in range(n)):\n",
    "        return 1\n",
    "    elif all(board[i][i] == 2 for i in range(n)):\n",
    "        return 2\n",
    "    if all(board[i][n - i - 1] == 1 for i in range(n)):\n",
    "        return 1\n",
    "    elif all(board[i][n - i - 1] == 2 for i in range(n)):\n",
    "        return 2\n",
    "\n",
    "    for i in range(n):\n",
    "        for j in range(n):\n",
    "            if board[i][j] == 0:\n",
    "                return -1\n",
    "\n",
    "    return 0\n",
    "\n",
    "def label_to_index(label):\n",
    "   \n",
    "    return ord(label.upper()) - ord('A')\n",
    "\n",
    "def index_to_label(index):\n",
    "    \n",
    "    return chr(ord('A') + index)\n",
    "\n",
    "def place_symbol(board, player, location):\n",
    "    \n",
    "    row_label = location[0]\n",
    "    col_index = int(location[1:]) - 1  # Convert row index to 0-based index\n",
    "\n",
    "    if row_label.isalpha() and 'A' <= row_label.upper() <= index_to_label(len(board) - 1).upper():\n",
    "        row_index = label_to_index(row_label)\n",
    "        if 0 <= row_index < len(board) and 0 <= col_index < len(board):\n",
    "            if board[row_index][col_index] == 0:\n",
    "                board[row_index][col_index] = player\n",
    "                return True\n",
    "\n",
    "    return False\n",
    "\n",
    "\n",
    "game_board = [[0, 0, 0],\n",
    "              [0, 0, 0],\n",
    "              [0, 0, 0]]\n",
    "\n",
    "print(place_symbol(game_board, 1, \"A1\"))  \n",
    "\n",
    "\n",
    "print(place_symbol(game_board, 2, \"B2\")) \n",
    "\n",
    "print(place_symbol(game_board, 1, \"A1\"))  \n",
    "\n",
    "\n",
    "\n",
    "\n"
   ]
  },
  {
   "cell_type": "markdown",
   "metadata": {},
   "source": [
    "*Exercise 7:* Write a function that takes a board, player number, and location specified as in exercise 6 and then calls exercise 5 to correctly modify the board.  "
   ]
  },
  {
   "cell_type": "code",
   "execution_count": 20,
   "metadata": {},
   "outputs": [],
   "source": [
    "def update_board(board, player, location):\n",
    "    \n",
    "    row_label = location[0]\n",
    "    col_index = int(location[1:]) - 1  # Convert row index to 0-based index\n",
    "\n",
    "    if row_label.isalpha() and 'A' <= row_label.upper() <= index_to_label(len(board) - 1).upper():\n",
    "        row_index = label_to_index(row_label)\n",
    "        if 0 <= row_index < len(board) and 0 <= col_index < len(board):\n",
    "            if board[row_index][col_index] == 0:\n",
    "                board[row_index][col_index] = player\n",
    "                return True\n",
    "\n",
    "    return False\n",
    "\n",
    "def make_move(board, player, location):\n",
    "    \n",
    "    return update_board(board, player, location)\n",
    "\n",
    "\n"
   ]
  },
  {
   "cell_type": "code",
   "execution_count": 23,
   "metadata": {},
   "outputs": [
    {
     "name": "stdout",
     "output_type": "stream",
     "text": [
      "Move successful! Updated board:\n",
      "[1, 0, 0]\n",
      "[0, 0, 0]\n",
      "[0, 0, 0]\n"
     ]
    }
   ],
   "source": [
    "\n",
    "game_board = [[0, 0, 0],\n",
    "              [0, 0, 0],\n",
    "              [0, 0, 0]]\n",
    "\n",
    "player = 1\n",
    "location = \"A1\"\n",
    "move_successful = make_move(game_board, player, location)\n",
    "\n",
    "if move_successful:\n",
    "    print(\"Move successful! Updated board:\")\n",
    "    for row in game_board:\n",
    "        print(row)\n",
    "else:\n",
    "    print(\"Invalid move. Please choose a valid location.\")"
   ]
  },
  {
   "cell_type": "markdown",
   "metadata": {},
   "source": [
    "*Exercise 8:* Write a function is called with a board and player number, takes input from the player using python's `input`, and modifies the board using your function from exercise 7. Note that you should keep asking for input until you have gotten a valid input that results in a valid move."
   ]
  },
  {
   "cell_type": "code",
   "execution_count": 24,
   "metadata": {},
   "outputs": [],
   "source": [
    "def player_move(board, player):\n",
    "    \n",
    "    while True:\n",
    "        location = input(f\"Player {player}, enter your move (e.g., 'A1', 'C2'): \")\n",
    "        if len(location) != 2 or not location[0].isalpha() or not location[1].isdigit():\n",
    "            print(\"Invalid input. Please enter a valid location.\")\n",
    "            continue\n",
    "\n",
    "        row_label = location[0].upper()\n",
    "        col_index = int(location[1]) - 1\n",
    "\n",
    "        if 'A' <= row_label <= 'Z' and 0 <= col_index < len(board) and 'A' <= row_label <= chr(ord('A') + len(board) - 1):\n",
    "            if update_board(board, player, location):\n",
    "                break\n",
    "            else:\n",
    "                print(\"Location already occupied. Please choose another location.\")\n",
    "        else:\n",
    "            print(\"Invalid location. Please choose a valid location.\")\n"
   ]
  },
  {
   "cell_type": "code",
   "execution_count": 25,
   "metadata": {},
   "outputs": [
    {
     "name": "stdin",
     "output_type": "stream",
     "text": [
      "Player 1, enter your move (e.g., 'A1', 'C2'):  c4\n"
     ]
    },
    {
     "name": "stdout",
     "output_type": "stream",
     "text": [
      "Invalid location. Please choose a valid location.\n"
     ]
    },
    {
     "name": "stdin",
     "output_type": "stream",
     "text": [
      "Player 1, enter your move (e.g., 'A1', 'C2'):  C4\n"
     ]
    },
    {
     "name": "stdout",
     "output_type": "stream",
     "text": [
      "Invalid location. Please choose a valid location.\n"
     ]
    },
    {
     "name": "stdin",
     "output_type": "stream",
     "text": [
      "Player 1, enter your move (e.g., 'A1', 'C2'):  c2\n"
     ]
    },
    {
     "name": "stdout",
     "output_type": "stream",
     "text": [
      "[0, 0, 0]\n",
      "[0, 0, 0]\n",
      "[0, 1, 0]\n"
     ]
    }
   ],
   "source": [
    "game_board = [[0, 0, 0],\n",
    "              [0, 0, 0],\n",
    "              [0, 0, 0]]\n",
    "\n",
    "player_move(game_board, 1)\n",
    "for row in game_board:\n",
    "    print(row)"
   ]
  },
  {
   "cell_type": "markdown",
   "metadata": {},
   "source": [
    "*Exercise 9:* Use all of the previous exercises to implement a full tic-tac-toe game, where an appropriate board is drawn, 2 players are repeatedly asked for a location coordinates of where they wish to place a mark, and the game status is checked until a player wins or a draw occurs."
   ]
  },
  {
   "cell_type": "code",
   "execution_count": 35,
   "metadata": {},
   "outputs": [
    {
     "name": "stdout",
     "output_type": "stream",
     "text": [
      "\n",
      "Current board:\n",
      "   A   B   C\n",
      " --- --- ---\n",
      "|   |   |   | 1\n",
      " --- --- ---\n",
      "|   |   |   | 2\n",
      " --- --- ---\n",
      "|   |   |   | 3\n",
      " --- --- ---\n"
     ]
    },
    {
     "name": "stdin",
     "output_type": "stream",
     "text": [
      "Player 1, enter your move (e.g., 'A1', 'C2'):  c2\n"
     ]
    },
    {
     "name": "stdout",
     "output_type": "stream",
     "text": [
      "\n",
      "Current board:\n",
      "   A   B   C\n",
      " --- --- ---\n",
      "|   |   |   | 1\n",
      " --- --- ---\n",
      "|   |   |   | 2\n",
      " --- --- ---\n",
      "|   | X |   | 3\n",
      " --- --- ---\n"
     ]
    },
    {
     "name": "stdin",
     "output_type": "stream",
     "text": [
      "Player 2, enter your move (e.g., 'A1', 'C2'):  a2\n"
     ]
    },
    {
     "name": "stdout",
     "output_type": "stream",
     "text": [
      "\n",
      "Current board:\n",
      "   A   B   C\n",
      " --- --- ---\n",
      "|   | O |   | 1\n",
      " --- --- ---\n",
      "|   |   |   | 2\n",
      " --- --- ---\n",
      "|   | X |   | 3\n",
      " --- --- ---\n"
     ]
    },
    {
     "name": "stdin",
     "output_type": "stream",
     "text": [
      "Player 1, enter your move (e.g., 'A1', 'C2'):  a1\n"
     ]
    },
    {
     "name": "stdout",
     "output_type": "stream",
     "text": [
      "\n",
      "Current board:\n",
      "   A   B   C\n",
      " --- --- ---\n",
      "| X | O |   | 1\n",
      " --- --- ---\n",
      "|   |   |   | 2\n",
      " --- --- ---\n",
      "|   | X |   | 3\n",
      " --- --- ---\n"
     ]
    },
    {
     "name": "stdin",
     "output_type": "stream",
     "text": [
      "Player 2, enter your move (e.g., 'A1', 'C2'):  b1\n"
     ]
    },
    {
     "name": "stdout",
     "output_type": "stream",
     "text": [
      "\n",
      "Current board:\n",
      "   A   B   C\n",
      " --- --- ---\n",
      "| X | O |   | 1\n",
      " --- --- ---\n",
      "| O |   |   | 2\n",
      " --- --- ---\n",
      "|   | X |   | 3\n",
      " --- --- ---\n"
     ]
    },
    {
     "name": "stdin",
     "output_type": "stream",
     "text": [
      "Player 1, enter your move (e.g., 'A1', 'C2'):  c1\n"
     ]
    },
    {
     "name": "stdout",
     "output_type": "stream",
     "text": [
      "\n",
      "Current board:\n",
      "   A   B   C\n",
      " --- --- ---\n",
      "| X | O |   | 1\n",
      " --- --- ---\n",
      "| O |   |   | 2\n",
      " --- --- ---\n",
      "| X | X |   | 3\n",
      " --- --- ---\n"
     ]
    },
    {
     "name": "stdin",
     "output_type": "stream",
     "text": [
      "Player 2, enter your move (e.g., 'A1', 'C2'):  b2\n"
     ]
    },
    {
     "name": "stdout",
     "output_type": "stream",
     "text": [
      "\n",
      "Current board:\n",
      "   A   B   C\n",
      " --- --- ---\n",
      "| X | O |   | 1\n",
      " --- --- ---\n",
      "| O | O |   | 2\n",
      " --- --- ---\n",
      "| X | X |   | 3\n",
      " --- --- ---\n"
     ]
    },
    {
     "name": "stdin",
     "output_type": "stream",
     "text": [
      "Player 1, enter your move (e.g., 'A1', 'C2'):  c3\n"
     ]
    },
    {
     "name": "stdout",
     "output_type": "stream",
     "text": [
      "\n",
      "Final board:\n",
      "   A   B   C\n",
      " --- --- ---\n",
      "| X | O |   | 1\n",
      " --- --- ---\n",
      "| O | O |   | 2\n",
      " --- --- ---\n",
      "| X | X | X | 3\n",
      " --- --- ---\n",
      "Player 1 wins!\n"
     ]
    }
   ],
   "source": [
    "def draw_board(board):\n",
    "  \n",
    "    n = len(board)\n",
    "\n",
    "    # Display column labels\n",
    "    print(\"   \" + \"   \".join(chr(ord('A') + i) for i in range(n)))\n",
    "\n",
    "    for i in range(n):\n",
    "        # Draw horizontal lines\n",
    "        print(\" ---\" * n)\n",
    "\n",
    "        # Draw vertical lines with \"X\"s and \"O\"s\n",
    "        for j in range(n):\n",
    "            print(f\"| {symbol(board[i][j])} \", end=\"\")\n",
    "        print(f\"| {i + 1}\")\n",
    "\n",
    "    # Draw the last horizontal line to close the board\n",
    "    print(\" ---\" * n)\n",
    "\n",
    "def symbol(value):\n",
    "   \n",
    "    if value == 1:\n",
    "        return \"X\"\n",
    "    elif value == 2:\n",
    "        return \"O\"\n",
    "    else:\n",
    "        return \" \"\n",
    "\n",
    "def check_tic_tac_toe_game(board):\n",
    "   \n",
    "    n = len(board)\n",
    "\n",
    "    for i in range(n):\n",
    "        if all(board[i][j] == 1 for j in range(n)) or all(board[j][i] == 1 for j in range(n)):\n",
    "            return 1\n",
    "        elif all(board[i][j] == 2 for j in range(n)) or all(board[j][i] == 2 for j in range(n)):\n",
    "            return 2\n",
    "    if all(board[i][i] == 1 for i in range(n)) or all(board[i][n - i - 1] == 1 for i in range(n)):\n",
    "        return 1\n",
    "    elif all(board[i][i] == 2 for i in range(n)) or all(board[i][n - i - 1] == 2 for i in range(n)):\n",
    "        return 2\n",
    "\n",
    "    for i in range(n):\n",
    "        for j in range(n):\n",
    "            if board[i][j] == 0:\n",
    "                return -1\n",
    "\n",
    "  \n",
    "    return 0\n",
    "\n",
    "def label_to_index(label):\n",
    "\n",
    "    return ord(label.upper()) - ord('A')\n",
    "\n",
    "def index_to_label(index):\n",
    "   \n",
    "    return chr(ord('A') + index)\n",
    "\n",
    "def update_board(board, player, location):\n",
    "   \n",
    "    row_label = location[0]\n",
    "    col_index = int(location[1:]) - 1  # Convert row index to 0-based index\n",
    "\n",
    "    if row_label.isalpha() and 'A' <= row_label.upper() <= index_to_label(len(board) - 1).upper():\n",
    "        row_index = label_to_index(row_label)\n",
    "        if 0 <= row_index < len(board) and 0 <= col_index < len(board):\n",
    "            if board[row_index][col_index] == 0:\n",
    "                board[row_index][col_index] = player\n",
    "                return True\n",
    "\n",
    "    return False\n",
    "\n",
    "def player_move(board, player):\n",
    "   \n",
    "    while True:\n",
    "        location = input(f\"Player {player}, enter your move (e.g., 'A1', 'C2'): \")\n",
    "        if len(location) != 2 or not location[0].isalpha() or not location[1].isdigit():\n",
    "            print(\"Invalid input. Please enter a valid location.\")\n",
    "            continue\n",
    "\n",
    "        row_label = location[0].upper()\n",
    "        col_index = int(location[1]) - 1\n",
    "\n",
    "        if 'A' <= row_label <= 'Z' and 0 <= col_index < len(board) and 'A' <= row_label <= chr(ord('A') + len(board) - 1):\n",
    "            if update_board(board, player, location):\n",
    "                break\n",
    "            else:\n",
    "                print(\"Location already occupied. Please choose another location.\")\n",
    "        else:\n",
    "            print(\"Invalid location. Please choose a valid location.\")\n",
    "\n",
    "n = 3  # Size of the Tic Tac Toe board\n",
    "game_board = [[0] * n for _ in range(n)]\n",
    "\n",
    "current_player = 1\n",
    "while True:\n",
    "\n",
    "    print(\"\\nCurrent board:\")\n",
    "    draw_board(game_board)\n",
    "\n",
    "  \n",
    "    player_move(game_board, current_player)\n",
    "\n",
    "   \n",
    "    game_status = check_tic_tac_toe_game(game_board)\n",
    "    if game_status != -1:\n",
    "   \n",
    "        print(\"\\nFinal board:\")\n",
    "        draw_board(game_board)\n",
    "        if game_status == 0:\n",
    "            print(\"It's a draw!\")\n",
    "        else:\n",
    "            print(f\"Player {game_status} wins!\")\n",
    "        break\n",
    "\n",
    "    current_player = 2 if current_player == 1 else 1\n",
    "\n",
    "   \n",
    "\n",
    "\n"
   ]
  },
  {
   "cell_type": "markdown",
   "metadata": {},
   "source": [
    "*Exercise 10:* Test that your game works for 5x5 Tic Tac Toe.  "
   ]
  },
  {
   "cell_type": "code",
   "execution_count": 36,
   "metadata": {},
   "outputs": [
    {
     "name": "stdout",
     "output_type": "stream",
     "text": [
      "\n",
      "Current board:\n",
      "   A   B   C   D   E\n",
      " --- --- --- --- ---\n",
      "|   |   |   |   |   | 1\n",
      " --- --- --- --- ---\n",
      "|   |   |   |   |   | 2\n",
      " --- --- --- --- ---\n",
      "|   |   |   |   |   | 3\n",
      " --- --- --- --- ---\n",
      "|   |   |   |   |   | 4\n",
      " --- --- --- --- ---\n",
      "|   |   |   |   |   | 5\n",
      " --- --- --- --- ---\n"
     ]
    },
    {
     "name": "stdin",
     "output_type": "stream",
     "text": [
      "Player 1, enter your move (e.g., 'A1', 'C2'):  a5\n"
     ]
    },
    {
     "name": "stdout",
     "output_type": "stream",
     "text": [
      "\n",
      "Current board:\n",
      "   A   B   C   D   E\n",
      " --- --- --- --- ---\n",
      "|   |   |   |   | X | 1\n",
      " --- --- --- --- ---\n",
      "|   |   |   |   |   | 2\n",
      " --- --- --- --- ---\n",
      "|   |   |   |   |   | 3\n",
      " --- --- --- --- ---\n",
      "|   |   |   |   |   | 4\n",
      " --- --- --- --- ---\n",
      "|   |   |   |   |   | 5\n",
      " --- --- --- --- ---\n"
     ]
    },
    {
     "name": "stdin",
     "output_type": "stream",
     "text": [
      "Player 2, enter your move (e.g., 'A1', 'C2'):  d5\n"
     ]
    },
    {
     "name": "stdout",
     "output_type": "stream",
     "text": [
      "\n",
      "Current board:\n",
      "   A   B   C   D   E\n",
      " --- --- --- --- ---\n",
      "|   |   |   |   | X | 1\n",
      " --- --- --- --- ---\n",
      "|   |   |   |   |   | 2\n",
      " --- --- --- --- ---\n",
      "|   |   |   |   |   | 3\n",
      " --- --- --- --- ---\n",
      "|   |   |   |   | O | 4\n",
      " --- --- --- --- ---\n",
      "|   |   |   |   |   | 5\n",
      " --- --- --- --- ---\n"
     ]
    },
    {
     "name": "stdin",
     "output_type": "stream",
     "text": [
      "Player 1, enter your move (e.g., 'A1', 'C2'):  a1\n"
     ]
    },
    {
     "name": "stdout",
     "output_type": "stream",
     "text": [
      "\n",
      "Current board:\n",
      "   A   B   C   D   E\n",
      " --- --- --- --- ---\n",
      "| X |   |   |   | X | 1\n",
      " --- --- --- --- ---\n",
      "|   |   |   |   |   | 2\n",
      " --- --- --- --- ---\n",
      "|   |   |   |   |   | 3\n",
      " --- --- --- --- ---\n",
      "|   |   |   |   | O | 4\n",
      " --- --- --- --- ---\n",
      "|   |   |   |   |   | 5\n",
      " --- --- --- --- ---\n"
     ]
    },
    {
     "name": "stdin",
     "output_type": "stream",
     "text": [
      "Player 2, enter your move (e.g., 'A1', 'C2'):  b1\n"
     ]
    },
    {
     "name": "stdout",
     "output_type": "stream",
     "text": [
      "\n",
      "Current board:\n",
      "   A   B   C   D   E\n",
      " --- --- --- --- ---\n",
      "| X |   |   |   | X | 1\n",
      " --- --- --- --- ---\n",
      "| O |   |   |   |   | 2\n",
      " --- --- --- --- ---\n",
      "|   |   |   |   |   | 3\n",
      " --- --- --- --- ---\n",
      "|   |   |   |   | O | 4\n",
      " --- --- --- --- ---\n",
      "|   |   |   |   |   | 5\n",
      " --- --- --- --- ---\n"
     ]
    },
    {
     "name": "stdin",
     "output_type": "stream",
     "text": [
      "Player 1, enter your move (e.g., 'A1', 'C2'):  a2\n"
     ]
    },
    {
     "name": "stdout",
     "output_type": "stream",
     "text": [
      "\n",
      "Current board:\n",
      "   A   B   C   D   E\n",
      " --- --- --- --- ---\n",
      "| X | X |   |   | X | 1\n",
      " --- --- --- --- ---\n",
      "| O |   |   |   |   | 2\n",
      " --- --- --- --- ---\n",
      "|   |   |   |   |   | 3\n",
      " --- --- --- --- ---\n",
      "|   |   |   |   | O | 4\n",
      " --- --- --- --- ---\n",
      "|   |   |   |   |   | 5\n",
      " --- --- --- --- ---\n"
     ]
    },
    {
     "name": "stdin",
     "output_type": "stream",
     "text": [
      "Player 2, enter your move (e.g., 'A1', 'C2'):  b2\n"
     ]
    },
    {
     "name": "stdout",
     "output_type": "stream",
     "text": [
      "\n",
      "Current board:\n",
      "   A   B   C   D   E\n",
      " --- --- --- --- ---\n",
      "| X | X |   |   | X | 1\n",
      " --- --- --- --- ---\n",
      "| O | O |   |   |   | 2\n",
      " --- --- --- --- ---\n",
      "|   |   |   |   |   | 3\n",
      " --- --- --- --- ---\n",
      "|   |   |   |   | O | 4\n",
      " --- --- --- --- ---\n",
      "|   |   |   |   |   | 5\n",
      " --- --- --- --- ---\n"
     ]
    },
    {
     "name": "stdin",
     "output_type": "stream",
     "text": [
      "Player 1, enter your move (e.g., 'A1', 'C2'):  a3\n"
     ]
    },
    {
     "name": "stdout",
     "output_type": "stream",
     "text": [
      "\n",
      "Current board:\n",
      "   A   B   C   D   E\n",
      " --- --- --- --- ---\n",
      "| X | X | X |   | X | 1\n",
      " --- --- --- --- ---\n",
      "| O | O |   |   |   | 2\n",
      " --- --- --- --- ---\n",
      "|   |   |   |   |   | 3\n",
      " --- --- --- --- ---\n",
      "|   |   |   |   | O | 4\n",
      " --- --- --- --- ---\n",
      "|   |   |   |   |   | 5\n",
      " --- --- --- --- ---\n"
     ]
    },
    {
     "name": "stdin",
     "output_type": "stream",
     "text": [
      "Player 2, enter your move (e.g., 'A1', 'C2'):  b3\n"
     ]
    },
    {
     "name": "stdout",
     "output_type": "stream",
     "text": [
      "\n",
      "Current board:\n",
      "   A   B   C   D   E\n",
      " --- --- --- --- ---\n",
      "| X | X | X |   | X | 1\n",
      " --- --- --- --- ---\n",
      "| O | O | O |   |   | 2\n",
      " --- --- --- --- ---\n",
      "|   |   |   |   |   | 3\n",
      " --- --- --- --- ---\n",
      "|   |   |   |   | O | 4\n",
      " --- --- --- --- ---\n",
      "|   |   |   |   |   | 5\n",
      " --- --- --- --- ---\n"
     ]
    },
    {
     "name": "stdin",
     "output_type": "stream",
     "text": [
      "Player 1, enter your move (e.g., 'A1', 'C2'):  a4\n"
     ]
    },
    {
     "name": "stdout",
     "output_type": "stream",
     "text": [
      "\n",
      "Final board:\n",
      "   A   B   C   D   E\n",
      " --- --- --- --- ---\n",
      "| X | X | X | X | X | 1\n",
      " --- --- --- --- ---\n",
      "| O | O | O |   |   | 2\n",
      " --- --- --- --- ---\n",
      "|   |   |   |   |   | 3\n",
      " --- --- --- --- ---\n",
      "|   |   |   |   | O | 4\n",
      " --- --- --- --- ---\n",
      "|   |   |   |   |   | 5\n",
      " --- --- --- --- ---\n",
      "Player 1 wins!\n"
     ]
    }
   ],
   "source": [
    "\n",
    "n = 5  # Size of the Tic Tac Toe board\n",
    "game_board = [[0] * n for _ in range(n)]\n",
    "\n",
    "current_player = 1\n",
    "while True:\n",
    "   \n",
    "    print(\"\\nCurrent board:\")\n",
    "    draw_board(game_board)\n",
    "\n",
    "\n",
    "    player_move(game_board, current_player)\n",
    "\n",
    "\n",
    "    game_status = check_tic_tac_toe_game(game_board)\n",
    "    if game_status != -1:\n",
    "        \n",
    "        print(\"\\nFinal board:\")\n",
    "        draw_board(game_board)\n",
    "        if game_status == 0:\n",
    "            print(\"It's a draw!\")\n",
    "        else:\n",
    "            print(f\"Player {game_status} wins!\")\n",
    "        break\n",
    "\n",
    "    current_player = 2 if current_player == 1 else 1\n"
   ]
  },
  {
   "cell_type": "markdown",
   "metadata": {},
   "source": [
    "*Exercise 11:* (Advanced / Challenge) Develop a version of the game where one player is the computer. Note that you don't need to do an extensive seach for the best move. You can have the computer simply protect against loosing and otherwise try to win with straight or diagonal patterns."
   ]
  },
  {
   "cell_type": "code",
   "execution_count": null,
   "metadata": {
    "collapsed": true,
    "jupyter": {
     "outputs_hidden": true
    }
   },
   "outputs": [],
   "source": [
    "# Write you solution here"
   ]
  },
  {
   "cell_type": "code",
   "execution_count": null,
   "metadata": {
    "collapsed": true,
    "jupyter": {
     "outputs_hidden": true
    }
   },
   "outputs": [],
   "source": [
    "# Test your solution here"
   ]
  }
 ],
 "metadata": {
  "kernelspec": {
   "display_name": "Python 3 (ipykernel)",
   "language": "python",
   "name": "python3"
  },
  "language_info": {
   "codemirror_mode": {
    "name": "ipython",
    "version": 3
   },
   "file_extension": ".py",
   "mimetype": "text/x-python",
   "name": "python",
   "nbconvert_exporter": "python",
   "pygments_lexer": "ipython3",
   "version": "3.11.7"
  }
 },
 "nbformat": 4,
 "nbformat_minor": 4
}
