{
  "cells": [
    {
      "cell_type": "markdown",
      "metadata": {
        "id": "UK2H-VI_hh43"
      },
      "source": [
        "# Lab 4- Object Oriented Programming\n",
        "\n",
        "For all of the exercises below, make sure you provide tests of your solutions.\n"
      ]
    },
    {
      "cell_type": "markdown",
      "metadata": {
        "id": "gFi3xt6Khh49"
      },
      "source": [
        "1. Write a \"counter\" class that can be incremented up to a specified maximum value, will print an error if an attempt is made to increment beyond that value, and allows reseting the counter."
      ]
    },
    {
      "cell_type": "code",
      "execution_count": 1,
      "metadata": {
        "id": "CphGkpkfhh4-"
      },
      "outputs": [],
      "source": [
        "class Counter:\n",
        "    def __init__(self, max_value):\n",
        "        self.max_value = max_value\n",
        "        self.value = 0\n",
        "\n",
        "    def increment(self):\n",
        "        if self.value < self.max_value:\n",
        "            self.value += 1\n",
        "        else:\n",
        "            print(\"Error: Counter cannot be incremented beyond the maximum value.\")\n",
        "\n",
        "    def reset(self):\n",
        "        self.value = 0\n",
        "\n",
        "    def get_value(self):\n",
        "        return self.value\n"
      ]
    },
    {
      "cell_type": "markdown",
      "metadata": {
        "id": "1TDc6E6ohh4_"
      },
      "source": [
        "2. Copy and paste your solution to question 1 and modify it so that all the data held by the counter is private. Implement functions to check the value of the counter, check the maximum value, and check if the counter is at the maximum."
      ]
    },
    {
      "cell_type": "code",
      "execution_count": 3,
      "metadata": {
        "id": "IHeP8pezhh5A"
      },
      "outputs": [],
      "source": [
        "class Counter:\n",
        "    def __init__(self, max_value):\n",
        "        self.__max_value = max_value\n",
        "        self.__value = 0\n",
        "\n",
        "    def increment(self):\n",
        "        if self.__value < self.__max_value:\n",
        "            self.__value += 1\n",
        "        else:\n",
        "            print(\"Error: Counter cannot be incremented beyond the maximum value.\")\n",
        "\n",
        "    def reset(self):\n",
        "        self.__value = 0\n",
        "\n",
        "    def get_value(self):\n",
        "        return self.__value\n",
        "\n",
        "    def get_max_value(self):\n",
        "        return self.__max_value\n",
        "\n",
        "    def is_at_max(self):\n",
        "        return self.__value == self.__max_value\n",
        "\n",
        "\n"
      ]
    },
    {
      "cell_type": "code",
      "source": [
        "# Example usage:\n",
        "counter = Counter(5)\n",
        "counter.increment()\n",
        "counter.increment()\n",
        "counter.increment()\n",
        "\n",
        "print(\"Counter value:\", counter.get_value())  # Output: 3\n",
        "print(\"Maximum value:\", counter.get_max_value())  # Output: 5\n",
        "print(\"Is counter at maximum?\", counter.is_at_max())  # Output: False\n",
        "\n",
        "counter.increment()\n",
        "counter.increment()\n",
        "counter.increment()\n",
        "\n",
        "print(\"Counter value:\", counter.get_value())  # Output: 5\n",
        "print(\"Is counter at maximum?\", counter.is_at_max())  # Output: True\n"
      ],
      "metadata": {
        "colab": {
          "base_uri": "https://localhost:8080/"
        },
        "id": "YShl8BrliOAn",
        "outputId": "ecfd3509-1ce3-4c0e-805c-69d0db10ef31"
      },
      "execution_count": 4,
      "outputs": [
        {
          "output_type": "stream",
          "name": "stdout",
          "text": [
            "Counter value: 3\n",
            "Maximum value: 5\n",
            "Is counter at maximum? False\n",
            "Error: Counter cannot be incremented beyond the maximum value.\n",
            "Counter value: 5\n",
            "Is counter at maximum? True\n"
          ]
        }
      ]
    },
    {
      "cell_type": "markdown",
      "metadata": {
        "id": "D31RUM3Zhh5A"
      },
      "source": [
        "3. Implement a class to represent a rectangle, holding the length, width, and $x$ and $y$ coordinates of a corner of the object. Implement functions that compute the area and perimeter of the rectangle. Make all data members private and privide accessors to retrieve values of data members."
      ]
    },
    {
      "cell_type": "code",
      "execution_count": 7,
      "metadata": {
        "id": "JkP2zhDhhh5A"
      },
      "outputs": [],
      "source": [
        "class Rectangle:\n",
        "    def __init__(self, length, width, x, y):\n",
        "        self.__length = length\n",
        "        self.__width = width\n",
        "        self.__x = x\n",
        "        self.__y = y\n",
        "\n",
        "    def get_length(self):\n",
        "        return self.__length\n",
        "\n",
        "    def get_width(self):\n",
        "        return self.__width\n",
        "\n",
        "    def get_x(self):\n",
        "        return self.__x\n",
        "\n",
        "    def get_y(self):\n",
        "        return self.__y\n",
        "\n",
        "    def set_length(self, length):\n",
        "        self.__length = length\n",
        "\n",
        "    def set_width(self, width):\n",
        "        self.__width = width\n",
        "\n",
        "    def set_x(self, x):\n",
        "        self.__x = x\n",
        "\n",
        "    def set_y(self, y):\n",
        "        self.__y = y\n",
        "\n",
        "    def compute_area(self):\n",
        "        return self.__length * self.__width\n",
        "\n",
        "    def compute_perimeter(self):\n",
        "        return 2 * (self.__length + self.__width)\n",
        "\n",
        "\n"
      ]
    },
    {
      "cell_type": "code",
      "source": [
        "\n",
        "# Example usage:\n",
        "rectangle = Rectangle(5, 3, 0, 0)\n",
        "\n",
        "print(\"Length:\", rectangle.get_length())  # Output: 5\n",
        "print(\"Width:\", rectangle.get_width())    # Output: 3\n",
        "print(\"X coordinate:\", rectangle.get_x()) # Output: 0\n",
        "print(\"Y coordinate:\", rectangle.get_y()) # Output: 0\n",
        "\n",
        "print(\"Area:\", rectangle.compute_area())       # Output: 15\n",
        "print(\"Perimeter:\", rectangle.compute_perimeter())  # Output: 16"
      ],
      "metadata": {
        "colab": {
          "base_uri": "https://localhost:8080/"
        },
        "id": "W3OB4cyNjxav",
        "outputId": "8b8d181e-4f8e-4839-d1ef-5bf06f971127"
      },
      "execution_count": 8,
      "outputs": [
        {
          "output_type": "stream",
          "name": "stdout",
          "text": [
            "Length: 5\n",
            "Width: 3\n",
            "X coordinate: 0\n",
            "Y coordinate: 0\n",
            "Area: 15\n",
            "Perimeter: 16\n"
          ]
        }
      ]
    },
    {
      "cell_type": "markdown",
      "metadata": {
        "id": "BoLlMA4fhh5B"
      },
      "source": [
        "4. Implement a class to represent a circle, holding the radius and $x$ and $y$ coordinates of center of the object. Implement functions that compute the area and perimeter of the rectangle. Make all data members private and privide accessors to retrieve values of data members."
      ]
    },
    {
      "cell_type": "code",
      "execution_count": 9,
      "metadata": {
        "id": "F9E6qEIahh5C"
      },
      "outputs": [],
      "source": [
        "import math\n",
        "\n",
        "class Circle:\n",
        "    def __init__(self, radius, x, y):\n",
        "        self.__radius = radius\n",
        "        self.__x = x\n",
        "        self.__y = y\n",
        "\n",
        "    def get_radius(self):\n",
        "        return self.__radius\n",
        "\n",
        "    def get_x(self):\n",
        "        return self.__x\n",
        "\n",
        "    def get_y(self):\n",
        "        return self.__y\n",
        "\n",
        "    def set_radius(self, radius):\n",
        "        self.__radius = radius\n",
        "\n",
        "    def set_x(self, x):\n",
        "        self.__x = x\n",
        "\n",
        "    def set_y(self, y):\n",
        "        self.__y = y\n",
        "\n",
        "    def compute_area(self):\n",
        "        return math.pi * self.__radius ** 2\n",
        "\n",
        "    def compute_perimeter(self):\n",
        "        return 2 * math.pi * self.__radius"
      ]
    },
    {
      "cell_type": "code",
      "source": [
        "# Example usage:\n",
        "circle = Circle(5, 0, 0)\n",
        "\n",
        "print(\"Radius:\", circle.get_radius())  # Output: 5\n",
        "print(\"X coordinate of center:\", circle.get_x()) # Output: 0\n",
        "print(\"Y coordinate of center:\", circle.get_y()) # Output: 0\n",
        "\n",
        "print(\"Area:\", circle.compute_area())       # Output: ~78.54\n",
        "print(\"Perimeter:\", circle.compute_perimeter())  # Output: ~31.42"
      ],
      "metadata": {
        "colab": {
          "base_uri": "https://localhost:8080/"
        },
        "id": "ftWsZzd4ks9n",
        "outputId": "b71e5af6-efc7-46ce-9749-53436baea134"
      },
      "execution_count": 10,
      "outputs": [
        {
          "output_type": "stream",
          "name": "stdout",
          "text": [
            "Radius: 5\n",
            "X coordinate of center: 0\n",
            "Y coordinate of center: 0\n",
            "Area: 78.53981633974483\n",
            "Perimeter: 31.41592653589793\n"
          ]
        }
      ]
    },
    {
      "cell_type": "markdown",
      "metadata": {
        "id": "wm0-vBcqhh5C"
      },
      "source": [
        "5. Implement a common base class for the classes implemented in 3 and 4 above which implements all common methods as not implemented functions (virtual). Re-implement your regtangle and circule classes to inherit from the base class and overload the functions accordingly."
      ]
    },
    {
      "cell_type": "code",
      "execution_count": 15,
      "metadata": {
        "id": "zXZFF5N5hh5C"
      },
      "outputs": [],
      "source": [
        "import math\n",
        "\n",
        "class Shape:\n",
        "    def __init__(self, x, y):\n",
        "        self.__x = x\n",
        "        self.__y = y\n",
        "\n",
        "    def get_x(self):\n",
        "        return self.__x\n",
        "\n",
        "    def get_y(self):\n",
        "        return self.__y\n",
        "\n",
        "    def set_x(self, x):\n",
        "        self.__x = x\n",
        "\n",
        "    def set_y(self, y):\n",
        "        self.__y = y\n",
        "\n",
        "    def compute_area(self):\n",
        "        raise NotImplementedError(\"compute_area method not implemented\")\n",
        "\n",
        "    def compute_perimeter(self):\n",
        "        raise NotImplementedError(\"compute_perimeter method not implemented\")\n",
        "\n",
        "\n",
        "class Rectangle(Shape):\n",
        "    def __init__(self, length, width, x, y):\n",
        "        super().__init__(x, y)\n",
        "        self.__length = length\n",
        "        self.__width = width\n",
        "\n",
        "    def get_length(self):\n",
        "        return self.__length\n",
        "\n",
        "    def get_width(self):\n",
        "        return self.__width\n",
        "\n",
        "    def set_length(self, length):\n",
        "        self.__length = length\n",
        "\n",
        "    def set_width(self, width):\n",
        "        self.__width = width\n",
        "\n",
        "    def compute_area(self):\n",
        "        return self.__length * self.__width\n",
        "\n",
        "    def compute_perimeter(self):\n",
        "        return 2 * (self.__length + self.__width)\n",
        "\n",
        "\n",
        "class Circle(Shape):\n",
        "    def __init__(self, radius, x, y):\n",
        "        super().__init__(x, y)\n",
        "        self.__radius = radius\n",
        "\n",
        "    def get_radius(self):\n",
        "        return self.__radius\n",
        "\n",
        "    def set_radius(self, radius):\n",
        "        self.__radius = radius\n",
        "\n",
        "    def compute_area(self):\n",
        "        return math.pi * self.__radius ** 2\n",
        "\n",
        "    def compute_perimeter(self):\n",
        "        return 2 * math.pi * self.__radius"
      ]
    },
    {
      "cell_type": "code",
      "source": [
        "# Example usage:\n",
        "rectangle = Rectangle(5, 3, 0, 0)\n",
        "circle = Circle(5, 0, 0)\n",
        "\n",
        "print(\"Rectangle Area:\", rectangle.compute_area())  # Output: 15\n",
        "print(\"Rectangle Perimeter:\", rectangle.compute_perimeter())  # Output: 16\n",
        "\n",
        "print(\"Circle Area:\", circle.compute_area())  # Output: ~78.54\n",
        "print(\"Circle Perimeter:\", circle.compute_perimeter())  # Output: ~31.42"
      ],
      "metadata": {
        "colab": {
          "base_uri": "https://localhost:8080/"
        },
        "id": "MX0MMvA2lb_2",
        "outputId": "cab9e0ea-bb77-4c89-977a-1a01d8903734"
      },
      "execution_count": 16,
      "outputs": [
        {
          "output_type": "stream",
          "name": "stdout",
          "text": [
            "Rectangle Area: 15\n",
            "Rectangle Perimeter: 16\n",
            "Circle Area: 78.53981633974483\n",
            "Circle Perimeter: 31.41592653589793\n"
          ]
        }
      ]
    },
    {
      "cell_type": "markdown",
      "metadata": {
        "id": "z7_n4yG5hh5D"
      },
      "source": [
        "6. Implement a triangle class analogous to the rectangle and circle in question 5."
      ]
    },
    {
      "cell_type": "code",
      "execution_count": 17,
      "metadata": {
        "id": "KDLLjxBwhh5D"
      },
      "outputs": [],
      "source": [
        "import math\n",
        "class Triangle(Shape):\n",
        "    def __init__(self, base, height, x, y):\n",
        "        super().__init__(x, y)\n",
        "        self.__base = base\n",
        "        self.__height = height\n",
        "\n",
        "    def get_base(self):\n",
        "        return self.__base\n",
        "\n",
        "    def get_height(self):\n",
        "        return self.__height\n",
        "\n",
        "    def set_base(self, base):\n",
        "        self.__base = base\n",
        "\n",
        "    def set_height(self, height):\n",
        "        self.__height = height\n",
        "\n",
        "    def compute_area(self):\n",
        "        return 0.5 * self.__base * self.__height\n",
        "\n",
        "    def compute_perimeter(self):\n",
        "        # For perimeter calculation, we need additional information like the lengths of other sides.\n",
        "        raise NotImplementedError(\"compute_perimeter method not implemented for Triangle\")"
      ]
    },
    {
      "cell_type": "code",
      "source": [
        "triangle = Triangle(5, 4, 0, 0)\n",
        "\n",
        "print(\"Triangle Area:\", triangle.compute_area())  # Output: 10"
      ],
      "metadata": {
        "colab": {
          "base_uri": "https://localhost:8080/"
        },
        "id": "EcPu5_r2loOj",
        "outputId": "62880cb9-f628-456c-87a4-d6cfa0483a3a"
      },
      "execution_count": 18,
      "outputs": [
        {
          "output_type": "stream",
          "name": "stdout",
          "text": [
            "Triangle Area: 10.0\n"
          ]
        }
      ]
    },
    {
      "cell_type": "markdown",
      "metadata": {
        "id": "DpNJ2h13hh5D"
      },
      "source": [
        "7. Add a function to the object classes, including the base, that returns a list of up to 16 pairs of  $x$ and $y$ points on the parameter of the object."
      ]
    },
    {
      "cell_type": "code",
      "execution_count": 19,
      "metadata": {
        "id": "CH5SArxehh5D"
      },
      "outputs": [],
      "source": [
        "import math\n",
        "\n",
        "class Shape:\n",
        "    def __init__(self, x, y):\n",
        "        self.__x = x\n",
        "        self.__y = y\n",
        "\n",
        "    def get_x(self):\n",
        "        return self.__x\n",
        "\n",
        "    def get_y(self):\n",
        "        return self.__y\n",
        "\n",
        "    def set_x(self, x):\n",
        "        self.__x = x\n",
        "\n",
        "    def set_y(self, y):\n",
        "        self.__y = y\n",
        "\n",
        "    def compute_area(self):\n",
        "        raise NotImplementedError(\"compute_area method not implemented\")\n",
        "\n",
        "    def compute_perimeter(self):\n",
        "        raise NotImplementedError(\"compute_perimeter method not implemented\")\n",
        "\n",
        "    def get_points_on_perimeter(self):\n",
        "        raise NotImplementedError(\"get_points_on_perimeter method not implemented\")\n",
        "\n",
        "\n",
        "class Rectangle(Shape):\n",
        "    def __init__(self, length, width, x, y):\n",
        "        super().__init__(x, y)\n",
        "        self.__length = length\n",
        "        self.__width = width\n",
        "\n",
        "    def compute_area(self):\n",
        "        return self.__length * self.__width\n",
        "\n",
        "    def compute_perimeter(self):\n",
        "        return 2 * (self.__length + self.__width)\n",
        "\n",
        "    def get_points_on_perimeter(self):\n",
        "        x, y = self.get_x(), self.get_y()\n",
        "        points = [(x + i, y) for i in range(self.__length)] + \\\n",
        "                 [(x + self.__length, y + i) for i in range(self.__width)] + \\\n",
        "                 [(x + i, y + self.__width) for i in range(self.__length)] + \\\n",
        "                 [(x, y + i) for i in range(self.__width)]\n",
        "        return points[:16]\n",
        "\n",
        "\n",
        "class Circle(Shape):\n",
        "    def __init__(self, radius, x, y):\n",
        "        super().__init__(x, y)\n",
        "        self.__radius = radius\n",
        "\n",
        "    def compute_area(self):\n",
        "        return math.pi * self.__radius ** 2\n",
        "\n",
        "    def compute_perimeter(self):\n",
        "        return 2 * math.pi * self.__radius\n",
        "\n",
        "    def get_points_on_perimeter(self):\n",
        "        x, y = self.get_x(), self.get_y()\n",
        "        points = []\n",
        "        for angle in range(0, 360, 360 // 16):\n",
        "            points.append((x + self.__radius * math.cos(math.radians(angle)),\n",
        "                           y + self.__radius * math.sin(math.radians(angle))))\n",
        "        return points\n",
        "\n",
        "\n",
        "class Triangle(Shape):\n",
        "    def __init__(self, base, height, x, y):\n",
        "        super().__init__(x, y)\n",
        "        self.__base = base\n",
        "        self.__height = height\n",
        "\n",
        "    def compute_area(self):\n",
        "        return 0.5 * self.__base * self.__height\n",
        "\n",
        "    def compute_perimeter(self):\n",
        "        raise NotImplementedError(\"compute_perimeter method not implemented for Triangle\")\n",
        "\n",
        "    def get_points_on_perimeter(self):\n",
        "        x, y = self.get_x(), self.get_y()\n",
        "        points = [(x + i, y) for i in range(self.__base)] + \\\n",
        "                 [(x + self.__base, y + i) for i in range(self.__height)] + \\\n",
        "                 [(x + i, y + self.__height) for i in range(self.__base)]\n",
        "        return points[:16]"
      ]
    },
    {
      "cell_type": "code",
      "source": [
        "# Example usage:\n",
        "rectangle = Rectangle(6, 4, 0, 0)\n",
        "print(\"Rectangle Points on Perimeter:\", rectangle.get_points_on_perimeter())\n",
        "\n",
        "circle = Circle(5, 0, 0)\n",
        "print(\"Circle Points on Perimeter:\", circle.get_points_on_perimeter())\n",
        "\n",
        "triangle = Triangle(8, 6, 0, 0)\n",
        "print(\"Triangle Points on Perimeter:\", triangle.get_points_on_perimeter())\n"
      ],
      "metadata": {
        "colab": {
          "base_uri": "https://localhost:8080/"
        },
        "id": "y2ex_-XTmWC5",
        "outputId": "fc2dc9b6-3cc4-43d5-a1c1-366e3b9c8ffa"
      },
      "execution_count": 20,
      "outputs": [
        {
          "output_type": "stream",
          "name": "stdout",
          "text": [
            "Rectangle Points on Perimeter: [(0, 0), (1, 0), (2, 0), (3, 0), (4, 0), (5, 0), (6, 0), (6, 1), (6, 2), (6, 3), (0, 4), (1, 4), (2, 4), (3, 4), (4, 4), (5, 4)]\n",
            "Circle Points on Perimeter: [(5.0, 0.0), (4.635919272833937, 1.87303296707956), (3.596699001693256, 3.4732918522949863), (2.033683215379001, 4.567727288213004), (0.1744974835125054, 4.9969541350954785), (-1.7101007166283435, 4.698463103929543), (-3.345653031794291, 3.715724127386971), (-4.493970231495835, 2.1918557339453866), (-4.987820251299121, 0.3487823687206276), (-4.755282581475768, -1.5450849718747364), (-3.83022221559489, -3.2139380484326963), (-2.3473578139294538, -4.414737964294635), (-0.5226423163382667, -4.972609476841367), (1.3781867790849969, -4.806308479691594), (3.0783073766282927, -3.940053768033609), (4.330127018922192, -2.500000000000002), (4.951340343707852, -0.6958655048003294)]\n",
            "Triangle Points on Perimeter: [(0, 0), (1, 0), (2, 0), (3, 0), (4, 0), (5, 0), (6, 0), (7, 0), (8, 0), (8, 1), (8, 2), (8, 3), (8, 4), (8, 5), (0, 6), (1, 6)]\n"
          ]
        }
      ]
    },
    {
      "cell_type": "markdown",
      "metadata": {
        "id": "AMDtWw3Ahh5D"
      },
      "source": [
        "8. Add a function to the object classes, including the base, that tests if a given set of $x$ and $y$ coordinates are inside of the object. You'll have to think through how to determine if a set of coordinates are inside an object for each object type."
      ]
    },
    {
      "cell_type": "code",
      "execution_count": 21,
      "metadata": {
        "id": "rFZCCyAohh5E"
      },
      "outputs": [],
      "source": [
        "import math\n",
        "\n",
        "class Shape:\n",
        "    def __init__(self, x, y):\n",
        "        self.__x = x\n",
        "        self.__y = y\n",
        "\n",
        "    def get_x(self):\n",
        "        return self.__x\n",
        "\n",
        "    def get_y(self):\n",
        "        return self.__y\n",
        "\n",
        "    def set_x(self, x):\n",
        "        self.__x = x\n",
        "\n",
        "    def set_y(self, y):\n",
        "        self.__y = y\n",
        "\n",
        "    def compute_area(self):\n",
        "        raise NotImplementedError(\"compute_area method not implemented\")\n",
        "\n",
        "    def compute_perimeter(self):\n",
        "        raise NotImplementedError(\"compute_perimeter method not implemented\")\n",
        "\n",
        "    def get_points_on_perimeter(self):\n",
        "        raise NotImplementedError(\"get_points_on_perimeter method not implemented\")\n",
        "\n",
        "    def is_inside(self, x, y):\n",
        "        raise NotImplementedError(\"is_inside method not implemented\")\n",
        "\n",
        "\n",
        "class Rectangle(Shape):\n",
        "    def __init__(self, length, width, x, y):\n",
        "        super().__init__(x, y)\n",
        "        self.__length = length\n",
        "        self.__width = width\n",
        "\n",
        "    def compute_area(self):\n",
        "        return self.__length * self.__width\n",
        "\n",
        "    def compute_perimeter(self):\n",
        "        return 2 * (self.__length + self.__width)\n",
        "\n",
        "    def get_points_on_perimeter(self):\n",
        "        x, y = self.get_x(), self.get_y()\n",
        "        points = [(x + i, y) for i in range(self.__length)] + \\\n",
        "                 [(x + self.__length, y + i) for i in range(self.__width)] + \\\n",
        "                 [(x + i, y + self.__width) for i in range(self.__length)] + \\\n",
        "                 [(x, y + i) for i in range(self.__width)]\n",
        "        return points[:16]\n",
        "\n",
        "    def is_inside(self, x, y):\n",
        "        return self.get_x() <= x <= self.get_x() + self.__length and \\\n",
        "               self.get_y() <= y <= self.get_y() + self.__width\n",
        "\n",
        "\n",
        "class Circle(Shape):\n",
        "    def __init__(self, radius, x, y):\n",
        "        super().__init__(x, y)\n",
        "        self.__radius = radius\n",
        "\n",
        "    def compute_area(self):\n",
        "        return math.pi * self.__radius ** 2\n",
        "\n",
        "    def compute_perimeter(self):\n",
        "        return 2 * math.pi * self.__radius\n",
        "\n",
        "    def get_points_on_perimeter(self):\n",
        "        x, y = self.get_x(), self.get_y()\n",
        "        points = []\n",
        "        for angle in range(0, 360, 360 // 16):\n",
        "            points.append((x + self.__radius * math.cos(math.radians(angle)),\n",
        "                           y + self.__radius * math.sin(math.radians(angle))))\n",
        "        return points\n",
        "\n",
        "    def is_inside(self, x, y):\n",
        "        return math.sqrt((x - self.get_x()) ** 2 + (y - self.get_y()) ** 2) <= self.__radius\n",
        "\n",
        "\n",
        "class Triangle(Shape):\n",
        "    def __init__(self, base, height, x, y):\n",
        "        super().__init__(x, y)\n",
        "        self.__base = base\n",
        "        self.__height = height\n",
        "\n",
        "    def compute_area(self):\n",
        "        return 0.5 * self.__base * self.__height\n",
        "\n",
        "    def compute_perimeter(self):\n",
        "        raise NotImplementedError(\"compute_perimeter method not implemented for Triangle\")\n",
        "\n",
        "    def get_points_on_perimeter(self):\n",
        "        x, y = self.get_x(), self.get_y()\n",
        "        points = [(x + i, y) for i in range(self.__base)] + \\\n",
        "                 [(x + self.__base, y + i) for i in range(self.__height)] + \\\n",
        "                 [(x + i, y + self.__height) for i in range(self.__base)]\n",
        "        return points[:16]\n",
        "\n",
        "    def is_inside(self, x, y):\n",
        "        # Determine if the point is inside the triangle using barycentric coordinates\n",
        "        def sign(p1, p2, p3):\n",
        "            return (p1[0] - p3[0]) * (p2[1] - p3[1]) - (p2[0] - p3[0]) * (p1[1] - p3[1])\n",
        "\n",
        "        p1 = (self.get_x(), self.get_y())\n",
        "        p2 = (self.get_x() + self.__base, self.get_y())\n",
        "        p3 = (self.get_x(), self.get_y() + self.__height)\n",
        "\n",
        "        b1 = sign((x, y), p1, p2) < 0\n",
        "        b2 = sign((x, y), p2, p3) < 0\n",
        "        b3 = sign((x, y), p3, p1) < 0\n",
        "\n",
        "        return b1 == b2 == b3"
      ]
    },
    {
      "cell_type": "code",
      "source": [
        "# Example usage:\n",
        "rectangle = Rectangle(6, 4, 0, 0)\n",
        "print(\"Is (2, 2) inside the Rectangle?\", rectangle.is_inside(2, 2))  # Output: True\n",
        "print(\"Is (8, 6) inside the Rectangle?\", rectangle.is_inside(8, 6))  # Output: False\n",
        "\n",
        "circle = Circle(5, 0, 0)\n",
        "print(\"Is (3, 3) inside the Circle?\", circle.is_inside(3, 3))  # Output: True\n",
        "print(\"Is (6, 6) inside the Circle?\", circle.is_inside(6, 6))  # Output: False\n",
        "\n",
        "triangle = Triangle(8, 6, 0, 0)\n",
        "print(\"Is (3, 3) inside the Triangle?\", triangle.is_inside(3, 3))  # Output: True\n",
        "print(\"Is (9, 9) inside the Triangle?\", triangle.is_inside(9, 9))  # Output: False\n"
      ],
      "metadata": {
        "colab": {
          "base_uri": "https://localhost:8080/"
        },
        "id": "D8YCi7Dvpbjv",
        "outputId": "7f705618-69e2-42a3-8a98-05bfc9b3e91b"
      },
      "execution_count": 22,
      "outputs": [
        {
          "output_type": "stream",
          "name": "stdout",
          "text": [
            "Is (2, 2) inside the Rectangle? True\n",
            "Is (8, 6) inside the Rectangle? False\n",
            "Is (3, 3) inside the Circle? True\n",
            "Is (6, 6) inside the Circle? False\n",
            "Is (3, 3) inside the Triangle? True\n",
            "Is (9, 9) inside the Triangle? False\n"
          ]
        }
      ]
    },
    {
      "cell_type": "markdown",
      "metadata": {
        "id": "YgAxB8Dfhh5E"
      },
      "source": [
        "9. Add a function in the base class of the object classes that returns true/false testing that the object overlaps with another object."
      ]
    },
    {
      "cell_type": "code",
      "execution_count": 30,
      "metadata": {
        "id": "t_XsjnL8hh5E"
      },
      "outputs": [],
      "source": [
        "class Shape:\n",
        "    def __init__(self, x, y):\n",
        "        self.__x = x\n",
        "        self.__y = y\n",
        "\n",
        "    def get_x(self):\n",
        "        return self.__x\n",
        "\n",
        "    def get_y(self):\n",
        "        return self.__y\n",
        "\n",
        "    def set_x(self, x):\n",
        "        self.__x = x\n",
        "\n",
        "    def set_y(self, y):\n",
        "        self.__y = y\n",
        "\n",
        "    def compute_area(self):\n",
        "        raise NotImplementedError(\"compute_area method not implemented\")\n",
        "\n",
        "    def compute_perimeter(self):\n",
        "        raise NotImplementedError(\"compute_perimeter method not implemented\")\n",
        "\n",
        "    def get_points_on_perimeter(self):\n",
        "        raise NotImplementedError(\"get_points_on_perimeter method not implemented\")\n",
        "\n",
        "    def is_inside(self, x, y):\n",
        "        raise NotImplementedError(\"is_inside method not implemented\")\n",
        "\n",
        "    def overlaps(self, other):\n",
        "        raise NotImplementedError(\"overlaps method not implemented\")\n",
        "\n",
        "\n",
        "class Rectangle(Shape):\n",
        "    def __init__(self, length, width, x, y):\n",
        "        super().__init__(x, y)\n",
        "        self.__length = length\n",
        "        self.__width = width\n",
        "\n",
        "    # Implement other methods of Rectangle class\n",
        "\n",
        "    def overlaps(self, other):\n",
        "        x_overlap = (self.get_x() + self.__length >= other.get_x()) and (other.get_x() + other.__length >= self.get_x())\n",
        "        y_overlap = (self.get_y() + self.__width >= other.get_y()) and (other.get_y() + other.__width >= self.get_y())\n",
        "        return x_overlap and y_overlap\n",
        "\n",
        "    def is_inside(self, x, y):\n",
        "        return (self.get_x() <= x <= self.get_x() + self.__length) and (self.get_y() <= y <= self.get_y() + self.__width)\n",
        "\n",
        "\n",
        "class Circle(Shape):\n",
        "    def __init__(self, radius, x, y):\n",
        "        super().__init__(x, y)\n",
        "        self.__radius = radius\n",
        "\n",
        "    # Implement other methods of Circle class\n",
        "\n",
        "    def overlaps(self, other):\n",
        "        distance_squared = (self.get_x() - other.get_x())**2 + (self.get_y() - other.get_y())**2\n",
        "        return distance_squared <= (self.__radius + other.__radius)**2\n",
        "\n",
        "    def is_inside(self, x, y):\n",
        "        distance_squared = (self.get_x() - x)**2 + (self.get_y() - y)**2\n",
        "        return distance_squared <= self.__radius**2\n",
        "\n",
        "\n",
        "class Triangle(Shape):\n",
        "    def __init__(self, base, height, x, y):\n",
        "        super().__init__(x, y)\n",
        "        self.__base = base\n",
        "        self.__height = height\n",
        "\n",
        "    # Implement other methods of Triangle class\n",
        "\n",
        "    def overlaps(self, other):\n",
        "        # Determine if any point of one triangle is inside the other triangle\n",
        "        return self.is_inside(other.get_x(), other.get_y()) or \\\n",
        "               other.is_inside(self.get_x(), self.get_y())\n",
        "\n",
        "    def is_inside(self, x, y):\n",
        "        # Calculate area of the triangle formed by the point and the vertices of the triangle\n",
        "        area_total = self.compute_area()\n",
        "\n",
        "        # Calculate areas of sub-triangles formed by the point and the vertices of the triangle\n",
        "        area_sub1 = Triangle(self.__base, self.__height, self.get_x(), self.get_y()).compute_area()\n",
        "        area_sub2 = Triangle(self.__base, self.__height, x, y).compute_area()\n",
        "        area_sub3 = Triangle(self.__base, self.__height, self.get_x(), y).compute_area()\n",
        "\n",
        "        # If the sum of areas of sub-triangles is equal to the total area, the point is inside the triangle\n",
        "        return area_total == (area_sub1 + area_sub2 + area_sub3)"
      ]
    },
    {
      "cell_type": "code",
      "source": [
        "# Example usage:\n",
        "rectangle = Rectangle(6, 4, 0, 0)\n",
        "print(\"Is point (3, 3) inside the rectangle?\", rectangle.is_inside(3, 3))  # Output: True\n",
        "\n",
        "circle = Circle(5, 0, 0)\n",
        "print(\"Is point (3, 3) inside the circle?\", circle.is_inside(3, 3))  # Output: True\n",
        "\n",
        "triangle = Triangle(8, 6, 0, 0)\n",
        "print(\"Is point (3, 3) inside the triangle?\", triangle.is_inside(3, 3))  # Output: True\n",
        "\n",
        "\n",
        "\n",
        "\n"
      ],
      "metadata": {
        "colab": {
          "base_uri": "https://localhost:8080/",
          "height": 400
        },
        "id": "u0a6oTmxq9F3",
        "outputId": "2d2e413f-8717-4e58-9b6e-58fa1ded044c"
      },
      "execution_count": 31,
      "outputs": [
        {
          "output_type": "stream",
          "name": "stdout",
          "text": [
            "Is point (3, 3) inside the rectangle? True\n",
            "Is point (3, 3) inside the circle? True\n"
          ]
        },
        {
          "output_type": "error",
          "ename": "NotImplementedError",
          "evalue": "compute_area method not implemented",
          "traceback": [
            "\u001b[0;31m---------------------------------------------------------------------------\u001b[0m",
            "\u001b[0;31mNotImplementedError\u001b[0m                       Traceback (most recent call last)",
            "\u001b[0;32m<ipython-input-31-9667cd403fc8>\u001b[0m in \u001b[0;36m<cell line: 9>\u001b[0;34m()\u001b[0m\n\u001b[1;32m      7\u001b[0m \u001b[0;34m\u001b[0m\u001b[0m\n\u001b[1;32m      8\u001b[0m \u001b[0mtriangle\u001b[0m \u001b[0;34m=\u001b[0m \u001b[0mTriangle\u001b[0m\u001b[0;34m(\u001b[0m\u001b[0;36m8\u001b[0m\u001b[0;34m,\u001b[0m \u001b[0;36m6\u001b[0m\u001b[0;34m,\u001b[0m \u001b[0;36m0\u001b[0m\u001b[0;34m,\u001b[0m \u001b[0;36m0\u001b[0m\u001b[0;34m)\u001b[0m\u001b[0;34m\u001b[0m\u001b[0;34m\u001b[0m\u001b[0m\n\u001b[0;32m----> 9\u001b[0;31m \u001b[0mprint\u001b[0m\u001b[0;34m(\u001b[0m\u001b[0;34m\"Is point (3, 3) inside the triangle?\"\u001b[0m\u001b[0;34m,\u001b[0m \u001b[0mtriangle\u001b[0m\u001b[0;34m.\u001b[0m\u001b[0mis_inside\u001b[0m\u001b[0;34m(\u001b[0m\u001b[0;36m3\u001b[0m\u001b[0;34m,\u001b[0m \u001b[0;36m3\u001b[0m\u001b[0;34m)\u001b[0m\u001b[0;34m)\u001b[0m  \u001b[0;31m# Output: True\u001b[0m\u001b[0;34m\u001b[0m\u001b[0;34m\u001b[0m\u001b[0m\n\u001b[0m\u001b[1;32m     10\u001b[0m \u001b[0;34m\u001b[0m\u001b[0m\n\u001b[1;32m     11\u001b[0m \u001b[0;34m\u001b[0m\u001b[0m\n",
            "\u001b[0;32m<ipython-input-30-6d375acae104>\u001b[0m in \u001b[0;36mis_inside\u001b[0;34m(self, x, y)\u001b[0m\n\u001b[1;32m     80\u001b[0m     \u001b[0;32mdef\u001b[0m \u001b[0mis_inside\u001b[0m\u001b[0;34m(\u001b[0m\u001b[0mself\u001b[0m\u001b[0;34m,\u001b[0m \u001b[0mx\u001b[0m\u001b[0;34m,\u001b[0m \u001b[0my\u001b[0m\u001b[0;34m)\u001b[0m\u001b[0;34m:\u001b[0m\u001b[0;34m\u001b[0m\u001b[0;34m\u001b[0m\u001b[0m\n\u001b[1;32m     81\u001b[0m         \u001b[0;31m# Calculate area of the triangle formed by the point and the vertices of the triangle\u001b[0m\u001b[0;34m\u001b[0m\u001b[0;34m\u001b[0m\u001b[0m\n\u001b[0;32m---> 82\u001b[0;31m         \u001b[0marea_total\u001b[0m \u001b[0;34m=\u001b[0m \u001b[0mself\u001b[0m\u001b[0;34m.\u001b[0m\u001b[0mcompute_area\u001b[0m\u001b[0;34m(\u001b[0m\u001b[0;34m)\u001b[0m\u001b[0;34m\u001b[0m\u001b[0;34m\u001b[0m\u001b[0m\n\u001b[0m\u001b[1;32m     83\u001b[0m \u001b[0;34m\u001b[0m\u001b[0m\n\u001b[1;32m     84\u001b[0m         \u001b[0;31m# Calculate areas of sub-triangles formed by the point and the vertices of the triangle\u001b[0m\u001b[0;34m\u001b[0m\u001b[0;34m\u001b[0m\u001b[0m\n",
            "\u001b[0;32m<ipython-input-30-6d375acae104>\u001b[0m in \u001b[0;36mcompute_area\u001b[0;34m(self)\u001b[0m\n\u001b[1;32m     17\u001b[0m \u001b[0;34m\u001b[0m\u001b[0m\n\u001b[1;32m     18\u001b[0m     \u001b[0;32mdef\u001b[0m \u001b[0mcompute_area\u001b[0m\u001b[0;34m(\u001b[0m\u001b[0mself\u001b[0m\u001b[0;34m)\u001b[0m\u001b[0;34m:\u001b[0m\u001b[0;34m\u001b[0m\u001b[0;34m\u001b[0m\u001b[0m\n\u001b[0;32m---> 19\u001b[0;31m         \u001b[0;32mraise\u001b[0m \u001b[0mNotImplementedError\u001b[0m\u001b[0;34m(\u001b[0m\u001b[0;34m\"compute_area method not implemented\"\u001b[0m\u001b[0;34m)\u001b[0m\u001b[0;34m\u001b[0m\u001b[0;34m\u001b[0m\u001b[0m\n\u001b[0m\u001b[1;32m     20\u001b[0m \u001b[0;34m\u001b[0m\u001b[0m\n\u001b[1;32m     21\u001b[0m     \u001b[0;32mdef\u001b[0m \u001b[0mcompute_perimeter\u001b[0m\u001b[0;34m(\u001b[0m\u001b[0mself\u001b[0m\u001b[0;34m)\u001b[0m\u001b[0;34m:\u001b[0m\u001b[0;34m\u001b[0m\u001b[0;34m\u001b[0m\u001b[0m\n",
            "\u001b[0;31mNotImplementedError\u001b[0m: compute_area method not implemented"
          ]
        }
      ]
    },
    {
      "cell_type": "markdown",
      "metadata": {
        "id": "GEiZZk2bhh5F"
      },
      "source": [
        "10. Copy the `Canvas` class from lecture to in a python file creating a `paint` module. Copy your classes from above into the module and implement paint functions. Implement a `CompoundShape` class. Create a simple drawing demonstrating that all of your classes are working."
      ]
    },
    {
      "cell_type": "code",
      "execution_count": 6,
      "metadata": {
        "colab": {
          "base_uri": "https://localhost:8080/"
        },
        "id": "nqRyHNxwhh5F",
        "outputId": "32611250-a605-466a-f8ee-5fcd43922937"
      },
      "outputs": [
        {
          "output_type": "stream",
          "name": "stdout",
          "text": [
            "                    \n",
            "                    \n",
            "  *****             \n",
            "  *   *             \n",
            "  *   *             \n",
            "  *   *             \n",
            "  *   *             \n",
            "  *   *             \n",
            "  *   *             \n",
            "  *   *             \n",
            "  *   *        *    \n",
            "  *****     ******* \n",
            "           *********\n",
            "           *********\n",
            "           *********\n",
            "          **********\n",
            "           *********\n",
            "           *********\n",
            "           *********\n",
            "            ******* \n"
          ]
        }
      ],
      "source": [
        "class Canvas:\n",
        "    def __init__(self, width, height):\n",
        "        self.width = width\n",
        "        self.height = height\n",
        "        self.data = [[' '] * width for _ in range(height)]\n",
        "\n",
        "    def set_pixel(self, row, col, char='*'):\n",
        "        self.data[row][col] = char\n",
        "\n",
        "    def get_pixel(self, row, col):\n",
        "        return self.data[row][col]\n",
        "\n",
        "    def clear_canvas(self):\n",
        "        self.data = [[' '] * self.width for _ in range(self.height)]\n",
        "\n",
        "    def v_line(self, x, y, w, **kwargs):\n",
        "        for i in range(y, y + w):\n",
        "            self.set_pixel(i, x, **kwargs)\n",
        "\n",
        "    def h_line(self, x, y, h, **kwargs):\n",
        "        for i in range(x, x + h):\n",
        "            self.set_pixel(y, i, **kwargs)\n",
        "\n",
        "    def line(self, x1, y1, x2, y2, **kwargs):\n",
        "        slope = (y2 - y1) / (x2 - x1)\n",
        "        for x in range(x1, x2):\n",
        "            y = int(slope * (x - x1) + y1)\n",
        "            self.set_pixel(y, x, **kwargs)\n",
        "\n",
        "    def display(self):\n",
        "        print(\"\\n\".join([\"\".join(row) for row in self.data]))\n",
        "\n",
        "\n",
        "class Rectangle:\n",
        "    def __init__(self, width, height, x, y):\n",
        "        self.width = width\n",
        "        self.height = height\n",
        "        self.x = x\n",
        "        self.y = y\n",
        "\n",
        "    def draw(self, canvas):\n",
        "        for i in range(self.x, self.x + self.height):\n",
        "            canvas.set_pixel(i, self.y, char='*')\n",
        "            canvas.set_pixel(i, self.y + self.width - 1, char='*')\n",
        "        for j in range(self.y, self.y + self.width):\n",
        "            canvas.set_pixel(self.x, j, char='*')\n",
        "            canvas.set_pixel(self.x + self.height - 1, j, char='*')\n",
        "\n",
        "\n",
        "class Circle:\n",
        "    def __init__(self, radius, x, y):\n",
        "        self.radius = radius\n",
        "        self.x = x\n",
        "        self.y = y\n",
        "\n",
        "    def draw(self, canvas):\n",
        "        for i in range(canvas.width):\n",
        "            for j in range(canvas.height):\n",
        "                if (i - self.x)**2 + (j - self.y)**2 <= self.radius**2:\n",
        "                    canvas.set_pixel(i, j, char='*')\n",
        "\n",
        "\n",
        "class CompoundShape:\n",
        "    def __init__(self, shapes):\n",
        "        self.shapes = shapes\n",
        "\n",
        "    def draw(self, canvas):\n",
        "        for shape in self.shapes:\n",
        "            shape.draw(canvas)\n",
        "\n",
        "\n",
        "# Example usage:\n",
        "canvas = Canvas(20, 20)\n",
        "rect = Rectangle(5, 10, 2, 2)\n",
        "circle = Circle(5, 15, 15)\n",
        "compound_shape = CompoundShape([rect, circle])\n",
        "\n",
        "rect.draw(canvas)\n",
        "circle.draw(canvas)\n",
        "compound_shape.draw(canvas)\n",
        "\n",
        "canvas.display()\n"
      ]
    },
    {
      "cell_type": "markdown",
      "metadata": {
        "id": "s620Kqnjhh5F"
      },
      "source": [
        "11. Create a `RasterDrawing` class. Demonstrate that you can create a drawing made of several shapes, paint the drawing, modify the drawing, and paint it again."
      ]
    },
    {
      "cell_type": "code",
      "execution_count": 7,
      "metadata": {
        "colab": {
          "base_uri": "https://localhost:8080/"
        },
        "id": "FVeQrftBhh5F",
        "outputId": "ee5f4565-7b99-4d29-9d94-9daa0a6b6204"
      },
      "outputs": [
        {
          "output_type": "stream",
          "name": "stdout",
          "text": [
            "Original Drawing:\n",
            "                    \n",
            "                    \n",
            "  *****             \n",
            "  *   *             \n",
            "  *   *             \n",
            "  *   *             \n",
            "  *   *             \n",
            "  *   *             \n",
            "  *   *             \n",
            "  *   *             \n",
            "  *   *        *    \n",
            "  *****     ******* \n",
            "           *********\n",
            "           *********\n",
            "           *********\n",
            "          **********\n",
            "           *********\n",
            "           *********\n",
            "           *********\n",
            "            ******* \n",
            "\n",
            "Modified Drawing:\n",
            "                    \n",
            "                    \n",
            "  *****             \n",
            "  *   *             \n",
            "  *   *             \n",
            "  *   *             \n",
            "  *   *             \n",
            "  *  **             \n",
            "  ******            \n",
            "  ******            \n",
            "  *******           \n",
            "  ******            \n",
            "   *****            \n",
            "     *              \n",
            "                    \n",
            "                    \n",
            "                    \n",
            "                    \n",
            "                    \n",
            "                    \n"
          ]
        }
      ],
      "source": [
        "class RasterDrawing:\n",
        "    def __init__(self, width, height):\n",
        "        self.canvas = Canvas(width, height)\n",
        "        self.shapes = []\n",
        "\n",
        "    def add_shape(self, shape):\n",
        "        self.shapes.append(shape)\n",
        "\n",
        "    def paint_drawing(self):\n",
        "        self.canvas.clear_canvas()\n",
        "        for shape in self.shapes:\n",
        "            shape.draw(self.canvas)\n",
        "        self.canvas.display()\n",
        "\n",
        "    def modify_drawing(self, index, new_shape):\n",
        "        if 0 <= index < len(self.shapes):\n",
        "            self.shapes[index] = new_shape\n",
        "        else:\n",
        "            print(\"Invalid shape index.\")\n",
        "\n",
        "# Example usage:\n",
        "drawing = RasterDrawing(20, 20)\n",
        "\n",
        "# Add shapes to the drawing\n",
        "rect = Rectangle(5, 10, 2, 2)\n",
        "circle = Circle(5, 15, 15)\n",
        "drawing.add_shape(rect)\n",
        "drawing.add_shape(circle)\n",
        "\n",
        "# Paint the drawing\n",
        "print(\"Original Drawing:\")\n",
        "drawing.paint_drawing()\n",
        "\n",
        "# Modify the drawing\n",
        "new_circle = Circle(3, 10, 5)\n",
        "drawing.modify_drawing(1, new_circle)\n",
        "\n",
        "# Paint the modified drawing\n",
        "print(\"\\nModified Drawing:\")\n",
        "drawing.paint_drawing()\n"
      ]
    },
    {
      "cell_type": "markdown",
      "metadata": {
        "id": "CmDEQXGKhh5F"
      },
      "source": [
        "12. Implement the ability to load/save raster drawings and demonstate that your method works. One way to implement this ability:\n",
        "\n",
        "   * Overload `__repr__` functions of all objects to return strings of the python code that would construct the object.\n",
        "   \n",
        "   * In the save method of raster drawing class, store the representations into the file.\n",
        "   * Write a loader function that reads the file and uses `eval` to instantiate the object.\n",
        "\n",
        "For example:"
      ]
    },
    {
      "cell_type": "code",
      "execution_count": null,
      "metadata": {
        "id": "xB2xgZGJhh5G"
      },
      "outputs": [],
      "source": [
        "class foo:\n",
        "    def __init__(self,a,b=None):\n",
        "        self.a=a\n",
        "        self.b=b\n",
        "\n",
        "    def __repr__(self):\n",
        "        return \"foo(\"+repr(self.a)+\",\"+repr(self.b)+\")\"\n",
        "\n",
        "    def save(self,filename):\n",
        "        f=open(filename,\"w\")\n",
        "        f.write(self.__repr__())\n",
        "        f.close()\n",
        "\n",
        "\n",
        "def foo_loader(filename):\n",
        "    f=open(filename,\"r\")\n",
        "    tmp=eval(f.read())\n",
        "    f.close()\n",
        "    return tmp\n"
      ]
    },
    {
      "cell_type": "code",
      "execution_count": null,
      "metadata": {
        "id": "45FHPax9hh5H",
        "outputId": "ce32eae6-7489-4295-a215-83da1f143ebf"
      },
      "outputs": [
        {
          "name": "stdout",
          "output_type": "stream",
          "text": [
            "foo(1,'hello')\n"
          ]
        }
      ],
      "source": [
        "# Test\n",
        "print(repr(foo(1,\"hello\")))"
      ]
    },
    {
      "cell_type": "code",
      "execution_count": null,
      "metadata": {
        "id": "joPxGFdshh5I"
      },
      "outputs": [],
      "source": [
        "# Create an object and save it\n",
        "ff=foo(1,\"hello\")\n",
        "ff.save(\"Test.foo\")"
      ]
    },
    {
      "cell_type": "code",
      "execution_count": null,
      "metadata": {
        "id": "cRB4bFlchh5I",
        "outputId": "3b58f388-435b-453a-fb8f-4862294830a7"
      },
      "outputs": [
        {
          "name": "stdout",
          "output_type": "stream",
          "text": [
            "foo(1,'hello')"
          ]
        }
      ],
      "source": [
        "# Check contents of the saved file\n",
        "!cat Test.foo"
      ]
    },
    {
      "cell_type": "code",
      "execution_count": null,
      "metadata": {
        "id": "WlcOwtH_hh5I",
        "outputId": "4af1dd25-300b-48f2-8f9e-4ea10ea11240"
      },
      "outputs": [
        {
          "data": {
            "text/plain": [
              "foo(1,'hello')"
            ]
          },
          "execution_count": 5,
          "metadata": {},
          "output_type": "execute_result"
        }
      ],
      "source": [
        "# Load the object\n",
        "ff_reloaded=foo_loader(\"Test.foo\")\n",
        "ff_reloaded"
      ]
    },
    {
      "cell_type": "code",
      "execution_count": 8,
      "metadata": {
        "colab": {
          "base_uri": "https://localhost:8080/",
          "height": 216
        },
        "id": "3ud7p32Jhh5I",
        "outputId": "99459b8e-dc42-4c4f-bf9b-c9790f269d2f"
      },
      "outputs": [
        {
          "output_type": "error",
          "ename": "TypeError",
          "evalue": "RasterDrawing() takes no arguments",
          "traceback": [
            "\u001b[0;31m---------------------------------------------------------------------------\u001b[0m",
            "\u001b[0;31mTypeError\u001b[0m                                 Traceback (most recent call last)",
            "\u001b[0;32m<ipython-input-8-52ae1183e033>\u001b[0m in \u001b[0;36m<cell line: 46>\u001b[0;34m()\u001b[0m\n\u001b[1;32m     44\u001b[0m \u001b[0;34m\u001b[0m\u001b[0m\n\u001b[1;32m     45\u001b[0m \u001b[0;31m# Example usage:\u001b[0m\u001b[0;34m\u001b[0m\u001b[0;34m\u001b[0m\u001b[0m\n\u001b[0;32m---> 46\u001b[0;31m \u001b[0mdrawing\u001b[0m \u001b[0;34m=\u001b[0m \u001b[0mRasterDrawing\u001b[0m\u001b[0;34m(\u001b[0m\u001b[0;36m20\u001b[0m\u001b[0;34m,\u001b[0m \u001b[0;36m20\u001b[0m\u001b[0;34m)\u001b[0m\u001b[0;34m\u001b[0m\u001b[0;34m\u001b[0m\u001b[0m\n\u001b[0m\u001b[1;32m     47\u001b[0m \u001b[0mrect\u001b[0m \u001b[0;34m=\u001b[0m \u001b[0mRectangle\u001b[0m\u001b[0;34m(\u001b[0m\u001b[0;36m5\u001b[0m\u001b[0;34m,\u001b[0m \u001b[0;36m10\u001b[0m\u001b[0;34m,\u001b[0m \u001b[0;36m2\u001b[0m\u001b[0;34m,\u001b[0m \u001b[0;36m2\u001b[0m\u001b[0;34m)\u001b[0m\u001b[0;34m\u001b[0m\u001b[0;34m\u001b[0m\u001b[0m\n\u001b[1;32m     48\u001b[0m \u001b[0mcircle\u001b[0m \u001b[0;34m=\u001b[0m \u001b[0mCircle\u001b[0m\u001b[0;34m(\u001b[0m\u001b[0;36m5\u001b[0m\u001b[0;34m,\u001b[0m \u001b[0;36m15\u001b[0m\u001b[0;34m,\u001b[0m \u001b[0;36m15\u001b[0m\u001b[0;34m)\u001b[0m\u001b[0;34m\u001b[0m\u001b[0;34m\u001b[0m\u001b[0m\n",
            "\u001b[0;31mTypeError\u001b[0m: RasterDrawing() takes no arguments"
          ]
        }
      ],
      "source": [
        "class Canvas:\n",
        "    # Existing code...\n",
        "\n",
        "    def __repr__(self):\n",
        "        return f\"Canvas({self.width}, {self.height})\"\n",
        "\n",
        "\n",
        "class Rectangle:\n",
        "    # Existing code...\n",
        "\n",
        "    def __repr__(self):\n",
        "        return f\"Rectangle({self.width}, {self.height}, {self.x}, {self.y})\"\n",
        "\n",
        "\n",
        "class Circle:\n",
        "    # Existing code...\n",
        "\n",
        "    def __repr__(self):\n",
        "        return f\"Circle({self.radius}, {self.x}, {self.y})\"\n",
        "\n",
        "\n",
        "class CompoundShape:\n",
        "    # Existing code...\n",
        "\n",
        "    def __repr__(self):\n",
        "        return f\"CompoundShape({self.shapes})\"\n",
        "\n",
        "\n",
        "class RasterDrawing:\n",
        "    # Existing code...\n",
        "\n",
        "    def save(self, filename):\n",
        "        with open(filename, 'w') as f:\n",
        "            for shape in self.shapes:\n",
        "                f.write(repr(shape) + '\\n')\n",
        "\n",
        "    @staticmethod\n",
        "    def load(filename):\n",
        "        drawing = RasterDrawing(0, 0)  # Create an empty drawing\n",
        "        with open(filename, 'r') as f:\n",
        "            for line in f:\n",
        "                drawing.add_shape(eval(line))\n",
        "        return drawing\n",
        "\n",
        "# Example usage:\n",
        "drawing = RasterDrawing(20, 20)\n",
        "rect = Rectangle(5, 10, 2, 2)\n",
        "circle = Circle(5, 15, 15)\n",
        "drawing.add_shape(rect)\n",
        "drawing.add_shape(circle)\n",
        "\n",
        "# Save the drawing\n",
        "drawing.save(\"drawing.txt\")\n",
        "\n",
        "# Load the drawing\n",
        "loaded_drawing = RasterDrawing.load(\"drawing.txt\")\n",
        "\n",
        "# Paint the loaded drawing\n",
        "print(\"Loaded Drawing:\")\n",
        "loaded_drawing.paint_drawing()\n"
      ]
    },
    {
      "cell_type": "code",
      "execution_count": null,
      "metadata": {
        "id": "opLW5YPvhh5J"
      },
      "outputs": [],
      "source": []
    }
  ],
  "metadata": {
    "kernelspec": {
      "display_name": "Python 3 (ipykernel)",
      "language": "python",
      "name": "python3"
    },
    "language_info": {
      "codemirror_mode": {
        "name": "ipython",
        "version": 3
      },
      "file_extension": ".py",
      "mimetype": "text/x-python",
      "name": "python",
      "nbconvert_exporter": "python",
      "pygments_lexer": "ipython3",
      "version": "3.9.6"
    },
    "colab": {
      "provenance": []
    }
  },
  "nbformat": 4,
  "nbformat_minor": 0
}